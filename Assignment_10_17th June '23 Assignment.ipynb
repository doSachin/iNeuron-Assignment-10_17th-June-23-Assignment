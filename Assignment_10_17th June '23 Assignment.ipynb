{
 "cells": [
  {
   "cell_type": "markdown",
   "id": "b264b4c2",
   "metadata": {},
   "source": [
    "<h1 align=\"center\" ><span style=\"color: blue; font-size: 48px; \"><b> Assignment No. 10</b></span></h1>\n",
    "\n",
    "<h1 style=\"font-family: Trebuchet MS; font-size: 14px; color: #34495E; text-align: right; \">Submitted By: Sachin Dodake</h1>\n",
    "\n",
    "<hr style=\"height:3px;border-width:1;color:blue;background-color:blue\">"
   ]
  },
  {
   "cell_type": "markdown",
   "id": "c113e3b8",
   "metadata": {},
   "source": [
    "###  1. What is the role of `try block` and `exception block`?"
   ]
  },
  {
   "cell_type": "markdown",
   "id": "f99a69eb",
   "metadata": {},
   "source": [
    "**`Ans-1`**\n",
    "\n",
    "> 1.  In Python, errors and exceptions can occur at runtime due to a variety of reasons, such as invalid input, network errors, file system errors, and so on. When such errors occur, they can cause the program to crash or behave unpredictably, which is not desirable. This is where Try Except comes in.\n",
    "> 2.  Try-except is a construct in Python that allows you to catch and handle exceptions that occur during the execution of your program. By wrapping potentially error-prone code in a try block, you can catch and handle any exceptions that occur in a graceful and controlled manner, instead of allowing them to propagate and cause your program to crash.\n",
    "        i) Error handling: catch and handle exceptions in a controlled way, preventing your program from crashing and providing a more user-friendly experience for your users\n",
    "        ii) Robustness: make your programs more resilient to errors by handling exceptions gracefully\n",
    "        iii) Debugging: provide more detailed and helpful error messages that aid in debugging and troubleshooting\n",
    "        iv) Testing: Intentionally trigger exceptions in your code to test and ensure that it behaves as expected under different error conditions\n",
    "\n",
    "> **`Syntax of Try-Except Block:`**\n",
    "\n",
    "                                try:\n",
    "                                        # There can be errors in this block\n",
    "                                except <error type>:\n",
    "                                        # Do this to handle exception;\n",
    "                                        # executed if the try block throws an error\n",
    "                                else:\n",
    "                                        # Do this if try block executes successfully without errors\n",
    "                                finally:\n",
    "                                        # This block is always executed\n",
    "                                        \n",
    "                                        \n",
    ">- The **`try block`** is the block of statements you'd like to try executing. However, there may be runtime errors due to an exception, and this block may fail to work as intended.\n",
    ">- The **`except block`** is triggered when the `try block` fails due to an exception. It contains a set of statements that often give you some context on what went wrong inside the try block.\n",
    ">- You should always mention the type of error that you intend to catch as exception inside the `except block`, denoted by the placeholder **`error type`** in the above snippet.\n",
    ">- You might as well use `except` without specifying the **`error type`**. But, this is not a recommended practice as you're not accounting for the different types of errors that can occur.                                        "
   ]
  },
  {
   "cell_type": "markdown",
   "id": "47c90b53",
   "metadata": {},
   "source": [
    "###  2. What is the syntax for a basic `try-except block`?"
   ]
  },
  {
   "cell_type": "markdown",
   "id": "6cb467d1",
   "metadata": {},
   "source": [
    "**`Ans-2`**\n",
    "\n",
    ">- The basic syntax of Try-except block is as below,\n",
    "\n",
    "                                try:\n",
    "                                        # There can be errors in this block\n",
    "                                except <error type>:\n",
    "                                        # Do this to handle exception;\n",
    "                                        # executed if the try block throws an error\n",
    "                                else:\n",
    "                                        # Do this if try block executes successfully without errors\n",
    "                                finally:\n",
    "                                        # This block is always executed\n"
   ]
  },
  {
   "cell_type": "markdown",
   "id": "e301b6a9",
   "metadata": {},
   "source": [
    "###  3. What happens if an exception occurs inside a `try block` and there is `no matching except block`?"
   ]
  },
  {
   "cell_type": "markdown",
   "id": "c934c23f",
   "metadata": {},
   "source": [
    "**`Ans-3`**\n",
    "\n",
    ">- If an `exception occurs` during `execution of the try clause`, the rest of the clause is skipped. Then, if its type matches the exception named after the except keyword, the except clause is executed, and then execution continues after the try/except block.\n",
    ">- If an `exception occurs` which `does not match the exception` named in the except clause, it is passed on to outer try statements; if no handler is found, it is an unhandled exception and execution stops with a message as shown above"
   ]
  },
  {
   "cell_type": "markdown",
   "id": "f1b1f993",
   "metadata": {},
   "source": [
    "###  4. What is the difference between using a `bare except block` and specifying a `specific exception type`?"
   ]
  },
  {
   "cell_type": "markdown",
   "id": "cc7f68cc",
   "metadata": {
    "ExecuteTime": {
     "end_time": "2023-06-21T17:24:30.777625Z",
     "start_time": "2023-06-21T17:24:30.762457Z"
    }
   },
   "source": [
    "**`Ans-4`**\n",
    "\n",
    "> **`Bare Except Block:`**\n",
    ">- A bare except clause will catch SystemExit and KeyboardInterrupt exceptions, making it harder to interrupt a program with Control-C, and can disguise other problems. \n",
    ">- If you want to catch all exceptions that signal program errors, use except Exception: (bare except is equivalent to except BaseException:).\n",
    ">- The use of bare except catches all exceptions indiscriminately – even the ones that you didn't expect and can crash your program (e.g. SystemExit or KeyboardInterrupt.\n",
    ">- **Example:** The following code has a bare except: clause"
   ]
  },
  {
   "cell_type": "code",
   "execution_count": null,
   "id": "c027f4f6",
   "metadata": {
    "ExecuteTime": {
     "end_time": "2023-06-21T20:14:23.387549Z",
     "start_time": "2023-06-21T20:14:23.332454Z"
    }
   },
   "outputs": [],
   "source": [
    "try:\n",
    "    user = User.objects.get(pk=user_id)\n",
    "    user.send_mail('Hello world')\n",
    "except:\n",
    "    logger.error('An error occurred!')"
   ]
  },
  {
   "cell_type": "markdown",
   "id": "a6605912",
   "metadata": {
    "ExecuteTime": {
     "end_time": "2023-06-21T17:24:30.777625Z",
     "start_time": "2023-06-21T17:24:30.762457Z"
    }
   },
   "source": [
    "> **`Specific Exception Block:`**\n",
    ">- Catching every exception could cause our application to fail without us really knowing why. This is a horrible idea as it makes our code harder to maintain as bugs can be hidden behind an unspecific exception handler.\n",
    ">- Instead of catching all exceptions with bare except, catch only the specific exceptions you expect to occur. Using our example above, we can introduce FileTypeError and UserPermissionError just to name a few. \n",
    ">- This way, you can handle the problems you know about, and let all the other exceptions bubble up to a higher-level error-handling mechanism.\n",
    ">- **Example:**"
   ]
  },
  {
   "cell_type": "code",
   "execution_count": null,
   "id": "768ec56a",
   "metadata": {
    "ExecuteTime": {
     "end_time": "2023-06-21T20:14:41.258525Z",
     "start_time": "2023-06-21T20:14:41.208877Z"
    }
   },
   "outputs": [],
   "source": [
    "try:\n",
    "    user = User.objects.get(pk=user_id)\n",
    "    user.send_mail('Hello world')\n",
    "except User.DoesNotExist:\n",
    "    logger.error('The user does not exist with that ID')"
   ]
  },
  {
   "cell_type": "markdown",
   "id": "bfe70a2e",
   "metadata": {},
   "source": [
    "###  5. Can you have `nested try-except blocks` in Python? If yes, then give an example."
   ]
  },
  {
   "cell_type": "markdown",
   "id": "2f5c2322",
   "metadata": {
    "ExecuteTime": {
     "end_time": "2023-06-21T17:24:25.384140Z",
     "start_time": "2023-06-21T17:24:25.372710Z"
    }
   },
   "source": [
    "**`Ans-5`**\n",
    "\n",
    ">- In python nested try except finally blocks are allowed. We can take try-except-finally blocks inside try block. We can take try-except-finally blocks inside except block. We can take try-except-finally blocks inside finally block.\n",
    ">- In this case, if an exception is raised in the nested try block, the nested except block is used to handle it. In case the nested except is not able to handle it, the outer except blocks are used to handle the exception.\n",
    ">- **Example:**"
   ]
  },
  {
   "cell_type": "code",
   "execution_count": 8,
   "id": "812602e6",
   "metadata": {
    "ExecuteTime": {
     "end_time": "2023-06-21T20:26:56.781120Z",
     "start_time": "2023-06-21T20:26:56.768116Z"
    }
   },
   "outputs": [
    {
     "name": "stdout",
     "output_type": "stream",
     "text": [
      "OUTER TRY BLOCK\n",
      "INNER TRY BLOCK\n",
      "OUTER EXCEPT BLOCK\n",
      "division by zero\n"
     ]
    }
   ],
   "source": [
    "# Exaplianation on try-except block\n",
    "\n",
    "x = 10\n",
    "y = 0\n",
    " \n",
    "try:\n",
    "    print(\"OUTER TRY BLOCK\")\n",
    "    try:\n",
    "        print(\"INNER TRY BLOCK\")\n",
    "        print(x / y)\n",
    "    except TypeError as te:\n",
    "        print(\"INNER EXCEPT BLOCK\")\n",
    "        print(te)\n",
    "except ZeroDivisionError as ze:\n",
    "    print(\"OUTER EXCEPT BLOCK\")\n",
    "    print(ze)"
   ]
  },
  {
   "cell_type": "markdown",
   "id": "c0d2a323",
   "metadata": {},
   "source": [
    "###  6. Can we use `multiple exception blocks`, if yes then give an example."
   ]
  },
  {
   "cell_type": "markdown",
   "id": "c019e319",
   "metadata": {},
   "source": [
    "**`Ans-6`**\n",
    "\n",
    ">- Yes, we can catch multiple exceptions in separate except blocks. The try block can have multiple except blocks, each handling a different type of exception. \n",
    ">- The interpreter will execute the first except block whose exception matches the exception that was raised. If no matching except block is found, the interpreter will continue searching for an exception handler in the calling function or script.\n",
    ">- **Example:**"
   ]
  },
  {
   "cell_type": "code",
   "execution_count": 10,
   "id": "c75b7559",
   "metadata": {
    "ExecuteTime": {
     "end_time": "2023-06-21T20:38:28.135355Z",
     "start_time": "2023-06-21T20:38:28.126873Z"
    }
   },
   "outputs": [
    {
     "name": "stdout",
     "output_type": "stream",
     "text": [
      "Type error occurs\n"
     ]
    }
   ],
   "source": [
    "# Python catch multiple exceptions\n",
    "try:\n",
    "    # defining variables\n",
    "    a = 10\n",
    "    b= 0\n",
    "    c = \"abc\"\n",
    "    # adding the variables\n",
    "    d =a+c\n",
    "\n",
    "except ZeroDivisionError:                            # Zerodivision ZeroDivisionError\n",
    "    print(\"Zero Division Error occurs\")      # printing error\n",
    "\n",
    "except IndexError:                                          # index IndexError\n",
    "    print(\"Index error occurs\")                      # printing error\n",
    "\n",
    "except TypeError:                                           # type error\n",
    "    print(\"Type error occurs\")                      # printing TypeError"
   ]
  },
  {
   "cell_type": "markdown",
   "id": "ccfb4fef",
   "metadata": {},
   "source": [
    "###  7. Write the reason due to which following `errors` are raised:\n",
    "            a. EOFError\n",
    "            b. FloatingPointError\n",
    "            c. IndexError\n",
    "            d. MemoryError\n",
    "            e. OverflowError\n",
    "            f. TabError\n",
    "            g. ValueError"
   ]
  },
  {
   "cell_type": "markdown",
   "id": "5c26e0ef",
   "metadata": {},
   "source": [
    "**`Ans-7`**\n",
    "\n",
    "> **`a) EOFError:`**\n",
    ">-  EOFError is raised when the input() function hits the condition of end-of-file.\n",
    "\n",
    "> **`b) FloatingPointError:`**\n",
    ">- FloatingPointError is raised when a floating-point operation fails.\n",
    " \n",
    "> **`c) IndexError:`**\n",
    ">- As the name suggests, the IndexError is raised when the wrong index of a list is used.\n",
    "\n",
    "> **`d) MemoryError:`**\n",
    ">- MemoryError is raised when a program runs out of memory.\n",
    "\n",
    "> **`e) OverflowError:`**\n",
    ">- OverflowError is raised when the result of an arithmetic operation is too large.\n",
    "\n",
    "> **`f) TabError:`**\n",
    ">- TabError is raised when interpreter detects internal error.\n",
    "\n",
    "> **`g) ValueError:`**\n",
    ">- ValueError is raised when a function is given the correct type of argument but with an improper value."
   ]
  },
  {
   "cell_type": "markdown",
   "id": "e0e155c4",
   "metadata": {},
   "source": [
    "###  8. Write code for the following given scenario and add `try-exception block` to it.\n",
    "            a. Program to divide two numbers\n",
    "            b. Program to convert a string to an integer\n",
    "            c. Program to access an element in a list\n",
    "            d. Program to handle a specific exception\n",
    "            e. Program to handle any exception"
   ]
  },
  {
   "cell_type": "markdown",
   "id": "01c9e7c0",
   "metadata": {},
   "source": [
    "**`Ans-8`**\n",
    "\n",
    "> **`a. Program to divide two numbers`**"
   ]
  },
  {
   "cell_type": "code",
   "execution_count": 15,
   "id": "aaf56274",
   "metadata": {
    "ExecuteTime": {
     "end_time": "2023-06-21T20:48:07.036774Z",
     "start_time": "2023-06-21T20:48:05.029810Z"
    }
   },
   "outputs": [
    {
     "name": "stdout",
     "output_type": "stream",
     "text": [
      "Enter First Number: 35\n",
      "Enter Second Number: 0\n",
      "\tError Message : division by zero\n"
     ]
    }
   ],
   "source": [
    "# Program to divide two numbers\n",
    "\n",
    "try:\n",
    "    num1 = int(input(\"Enter First Number: \"))\n",
    "    num2 = int(input(\"Enter Second Number: \"))\n",
    "\n",
    "    result = num1 / num2\n",
    "\n",
    "    print(result)\n",
    "except ValueError as e:\n",
    "    print(\"Please enter th valid integer number.\")\n",
    "except ZeroDivisionError as msg:\n",
    "    print(f\"\\tError Message : {msg}\")\n"
   ]
  },
  {
   "cell_type": "markdown",
   "id": "715528df",
   "metadata": {
    "ExecuteTime": {
     "end_time": "2023-06-21T20:48:26.001997Z",
     "start_time": "2023-06-21T20:48:25.962484Z"
    }
   },
   "source": [
    "> **`b. Program to convert a string to an integer`**"
   ]
  },
  {
   "cell_type": "code",
   "execution_count": 19,
   "id": "72a79725",
   "metadata": {
    "ExecuteTime": {
     "end_time": "2023-06-21T20:50:51.203188Z",
     "start_time": "2023-06-21T20:50:51.185735Z"
    }
   },
   "outputs": [
    {
     "name": "stdout",
     "output_type": "stream",
     "text": [
      "12\n"
     ]
    }
   ],
   "source": [
    "string_num = \"12\"\n",
    "\n",
    "try:\n",
    "    int_num = int(string_num)\n",
    "    print(int_num)\n",
    "except ValueError:\n",
    "    print(\"Catch Error\")"
   ]
  },
  {
   "cell_type": "markdown",
   "id": "7b7e0646",
   "metadata": {},
   "source": [
    "> **`c. Program to access an element in a list`**"
   ]
  },
  {
   "cell_type": "code",
   "execution_count": 23,
   "id": "b5091206",
   "metadata": {
    "ExecuteTime": {
     "end_time": "2023-06-21T20:55:52.685430Z",
     "start_time": "2023-06-21T20:55:52.671829Z"
    }
   },
   "outputs": [
    {
     "name": "stdout",
     "output_type": "stream",
     "text": [
      "The `0` th index  element of a given list is :  1111\n",
      "The `1` th index  element of a given list is :  2222\n",
      "The `2` th index  element of a given list is :  3333\n",
      "The `3` th index  element of a given list is :  4444\n",
      "The `4` th index  element of a given list is :  5555\n"
     ]
    }
   ],
   "source": [
    "a = [1111, 2222, 3333, 4444, 5555]  \n",
    "try:  \n",
    "    #looping through the elements of the array a, choosing a range that goes beyond the length of the array  \n",
    "     for i in range( 5 ):  \n",
    "        print( f\"The `{i}` th index  element of a given list is :  {a[i]}\" )  \n",
    "#if an error occurs in the try block, then except block will be executed by the Python interpreter       \n",
    "except:  \n",
    "    print (\"Index out of range\")  "
   ]
  },
  {
   "cell_type": "markdown",
   "id": "94e3a00b",
   "metadata": {},
   "source": [
    "> **`d. Program to handle a specific exception`**"
   ]
  },
  {
   "cell_type": "code",
   "execution_count": 28,
   "id": "e085dbd2",
   "metadata": {
    "ExecuteTime": {
     "end_time": "2023-06-21T21:04:42.394831Z",
     "start_time": "2023-06-21T21:04:40.640063Z"
    }
   },
   "outputs": [
    {
     "name": "stdout",
     "output_type": "stream",
     "text": [
      "Enter your age: 45\n",
      "Congratulations! Your account has been successfully created in SHAADI.COM.\n"
     ]
    }
   ],
   "source": [
    "# Handling specific exception\n",
    "\n",
    "try:\n",
    "    age = int(input('Enter your age: '))\n",
    "except ValueError:\n",
    "    print('Please enter the valid age.')\n",
    "else:\n",
    "    if age >= 21 &  age <= 99:\n",
    "        print('Congratulations! Your account has been successfully created in SHAADI.COM.')\n",
    "    else:\n",
    "        print('Sorry ! You are not eligible to register in SHAADI.COM.')"
   ]
  },
  {
   "cell_type": "markdown",
   "id": "75273e48",
   "metadata": {},
   "source": [
    "> **`e. Program to handle any exception`**"
   ]
  },
  {
   "cell_type": "code",
   "execution_count": 32,
   "id": "7b1620ed",
   "metadata": {
    "ExecuteTime": {
     "end_time": "2023-06-21T21:06:48.848132Z",
     "start_time": "2023-06-21T21:06:48.837062Z"
    }
   },
   "outputs": [
    {
     "name": "stdout",
     "output_type": "stream",
     "text": [
      "10\n"
     ]
    }
   ],
   "source": [
    "try:\n",
    "    even_numbers = [1,2,4,6,8,10]\n",
    "    print(even_numbers[5])\n",
    "\n",
    "except ZeroDivisionError:\n",
    "    print(\"Denominator cannot be 0.\")\n",
    "    \n",
    "except IndexError:\n",
    "    print(\"Index Out of Bound.\")"
   ]
  }
 ],
 "metadata": {
  "hide_input": false,
  "kernelspec": {
   "display_name": "Python 3 (ipykernel)",
   "language": "python",
   "name": "python3"
  },
  "language_info": {
   "codemirror_mode": {
    "name": "ipython",
    "version": 3
   },
   "file_extension": ".py",
   "mimetype": "text/x-python",
   "name": "python",
   "nbconvert_exporter": "python",
   "pygments_lexer": "ipython3",
   "version": "3.10.9"
  },
  "varInspector": {
   "cols": {
    "lenName": 16,
    "lenType": 16,
    "lenVar": 40
   },
   "kernels_config": {
    "python": {
     "delete_cmd_postfix": "",
     "delete_cmd_prefix": "del ",
     "library": "var_list.py",
     "varRefreshCmd": "print(var_dic_list())"
    },
    "r": {
     "delete_cmd_postfix": ") ",
     "delete_cmd_prefix": "rm(",
     "library": "var_list.r",
     "varRefreshCmd": "cat(var_dic_list()) "
    }
   },
   "types_to_exclude": [
    "module",
    "function",
    "builtin_function_or_method",
    "instance",
    "_Feature"
   ],
   "window_display": false
  }
 },
 "nbformat": 4,
 "nbformat_minor": 5
}
